{
  "nbformat": 4,
  "nbformat_minor": 0,
  "metadata": {
    "colab": {
      "name": "DATA690 Fall2020:HW1 Pushyami_Reddy_Ginnavaram.ipynb",
      "provenance": [],
      "collapsed_sections": [],
      "authorship_tag": "ABX9TyP/4BEk8AudgdojlllaBfJv",
      "include_colab_link": true
    },
    "kernelspec": {
      "name": "python3",
      "display_name": "Python 3"
    },
    "accelerator": "GPU"
  },
  "cells": [
    {
      "cell_type": "markdown",
      "metadata": {
        "id": "view-in-github",
        "colab_type": "text"
      },
      "source": [
        "<a href=\"https://colab.research.google.com/github/pushyag1/DeepLearningClass/blob/master/DATA690_Fall2020_HW1.ipynb\" target=\"_parent\"><img src=\"https://colab.research.google.com/assets/colab-badge.svg\" alt=\"Open In Colab\"/></a>"
      ]
    },
    {
      "cell_type": "markdown",
      "metadata": {
        "id": "9OPmZoyBC5rp",
        "colab_type": "text"
      },
      "source": [
        "1. Write a series of `for` loops that compute the average value in `torch_tensor3d`\n",
        "1. Write code that indexes into `torch_tensor3d` and prints out the value \"13\". \n",
        "1. For every power of 2 (i.e., $2^i$ or `2**i` ) up to $2^{11}$, create a random matrix $X \\in \\mathbb{R}^{2^i, 2^i}$ (i.e., `X.shape` should give `(2**i, 2**i)`). Time how long it takes to compute $X X$ (i.e., `X @ X`) on a CPU and on a GPU and plot the speedup. For what sized matrices is the CPU faster than the GPU? \n",
        "2. We used PyTorch to find the numeric solution to $f(x) = (x-2)^2$. Write code that will find the solution to  $f(x)= \\sin(x-2)\\cdot(x+2)^2+\\sqrt{\\cos(x)}$. What answer do you get?\n",
        "5. Affirm that you will not share the coure notebooks or images with any other person and will only use them for personal use.  Acknowledged!"
      ]
    },
    {
      "cell_type": "code",
      "metadata": {
        "id": "TeEtuiNCxATl",
        "colab_type": "code",
        "colab": {
          "base_uri": "https://localhost:8080/",
          "height": 104
        },
        "outputId": "541ff951-6b0f-4b82-8662-41bbac5a0f7b"
      },
      "source": [
        "import seaborn as sns\n",
        "import matplotlib.pyplot as plt\n",
        "import numpy as np\n",
        "from tqdm.autonotebook import tqdm\n",
        "import pandas as pd\n",
        "\n",
        "#importing all the required libraries "
      ],
      "execution_count": 1,
      "outputs": [
        {
          "output_type": "stream",
          "text": [
            "/usr/local/lib/python3.6/dist-packages/statsmodels/tools/_testing.py:19: FutureWarning: pandas.util.testing is deprecated. Use the functions in the public API at pandas.testing instead.\n",
            "  import pandas.util.testing as tm\n",
            "/usr/local/lib/python3.6/dist-packages/ipykernel_launcher.py:4: TqdmExperimentalWarning: Using `tqdm.autonotebook.tqdm` in notebook mode. Use `tqdm.tqdm` instead to force console mode (e.g. in jupyter console)\n",
            "  after removing the cwd from sys.path.\n"
          ],
          "name": "stderr"
        }
      ]
    },
    {
      "cell_type": "markdown",
      "metadata": {
        "id": "iw7f5fks08Kh",
        "colab_type": "text"
      },
      "source": [
        "***1) Write a series of `for` loops that compute the average value in `torch_tensor3d`**"
      ]
    },
    {
      "cell_type": "code",
      "metadata": {
        "id": "duGdFiEXxJeP",
        "colab_type": "code",
        "colab": {}
      },
      "source": [
        "import torch\n",
        "#we can create tensores using torch package"
      ],
      "execution_count": 2,
      "outputs": []
    },
    {
      "cell_type": "code",
      "metadata": {
        "id": "egZBWmqPzdqk",
        "colab_type": "code",
        "colab": {}
      },
      "source": [
        "torch_tensor3d = torch.tensor([\n",
        "                            [\n",
        "                            [ 1,  2,  3], \n",
        "                            [ 4,  5,  6],\n",
        "                            ],\n",
        "                            [\n",
        "                            [ 7,  8,  9], \n",
        "                            [10, 11, 12],\n",
        "                            ],\n",
        "                            [\n",
        "                            [13, 14, 15], \n",
        "                            [16, 17, 18],\n",
        "                            ],\n",
        "                            [\n",
        "                            [19, 20, 21], \n",
        "                            [22, 23, 24],\n",
        "                            ]\n",
        "                              ])\n",
        "# a 4x2x3 matrix is assigned to 'torch_tensor3d' "
      ],
      "execution_count": 3,
      "outputs": []
    },
    {
      "cell_type": "code",
      "metadata": {
        "id": "h_pq2TjWxKnT",
        "colab_type": "code",
        "colab": {
          "base_uri": "https://localhost:8080/",
          "height": 34
        },
        "outputId": "e4d56081-2523-44bc-b6ea-f196d28777d5"
      },
      "source": [
        "torch_tensor3d.shape\n",
        "#the shape of the matrix"
      ],
      "execution_count": 4,
      "outputs": [
        {
          "output_type": "execute_result",
          "data": {
            "text/plain": [
              "torch.Size([4, 2, 3])"
            ]
          },
          "metadata": {
            "tags": []
          },
          "execution_count": 4
        }
      ]
    },
    {
      "cell_type": "code",
      "metadata": {
        "id": "w8dUytjhzd1m",
        "colab_type": "code",
        "colab": {
          "base_uri": "https://localhost:8080/",
          "height": 34
        },
        "outputId": "19d6daa0-8e26-4fb4-cfac-a28efca81855"
      },
      "source": [
        "len(torch_tensor3d)\n",
        "#length of the matrix"
      ],
      "execution_count": 5,
      "outputs": [
        {
          "output_type": "execute_result",
          "data": {
            "text/plain": [
              "4"
            ]
          },
          "metadata": {
            "tags": []
          },
          "execution_count": 5
        }
      ]
    },
    {
      "cell_type": "code",
      "metadata": {
        "id": "XzfDEUga6vk2",
        "colab_type": "code",
        "colab": {}
      },
      "source": [
        "y1=[]\n",
        "#create a variable and assign it to a list so as to access each and every value in the matrix"
      ],
      "execution_count": 6,
      "outputs": []
    },
    {
      "cell_type": "code",
      "metadata": {
        "id": "TihSh_EY7NAo",
        "colab_type": "code",
        "colab": {
          "base_uri": "https://localhost:8080/",
          "height": 34
        },
        "outputId": "b0364824-c24f-4c86-d3f5-872efb443dd9"
      },
      "source": [
        "y1\n"
      ],
      "execution_count": 7,
      "outputs": [
        {
          "output_type": "execute_result",
          "data": {
            "text/plain": [
              "[]"
            ]
          },
          "metadata": {
            "tags": []
          },
          "execution_count": 7
        }
      ]
    },
    {
      "cell_type": "code",
      "metadata": {
        "id": "lf_CqeAm6w7L",
        "colab_type": "code",
        "colab": {
          "base_uri": "https://localhost:8080/",
          "height": 34
        },
        "outputId": "a62c3696-029b-46cf-a446-67d3351c951c"
      },
      "source": [
        "type(y1)"
      ],
      "execution_count": 8,
      "outputs": [
        {
          "output_type": "execute_result",
          "data": {
            "text/plain": [
              "list"
            ]
          },
          "metadata": {
            "tags": []
          },
          "execution_count": 8
        }
      ]
    },
    {
      "cell_type": "code",
      "metadata": {
        "id": "mnxoVbsi6ba8",
        "colab_type": "code",
        "colab": {}
      },
      "source": [
        "y1=torch_tensor3d.shape\n",
        "#assign the matrix shape to y1"
      ],
      "execution_count": 9,
      "outputs": []
    },
    {
      "cell_type": "code",
      "metadata": {
        "id": "5i3RSImWI0J5",
        "colab_type": "code",
        "colab": {
          "base_uri": "https://localhost:8080/",
          "height": 34
        },
        "outputId": "545b4fcd-bbd5-4aab-eb57-fb21c9b69229"
      },
      "source": [
        "y1"
      ],
      "execution_count": 10,
      "outputs": [
        {
          "output_type": "execute_result",
          "data": {
            "text/plain": [
              "torch.Size([4, 2, 3])"
            ]
          },
          "metadata": {
            "tags": []
          },
          "execution_count": 10
        }
      ]
    },
    {
      "cell_type": "code",
      "metadata": {
        "id": "uDq_PEPdF7w7",
        "colab_type": "code",
        "colab": {
          "base_uri": "https://localhost:8080/",
          "height": 34
        },
        "outputId": "a8a9da50-7868-4ba3-ea75-a3d41e210231"
      },
      "source": [
        "type(y1)"
      ],
      "execution_count": 11,
      "outputs": [
        {
          "output_type": "execute_result",
          "data": {
            "text/plain": [
              "torch.Size"
            ]
          },
          "metadata": {
            "tags": []
          },
          "execution_count": 11
        }
      ]
    },
    {
      "cell_type": "code",
      "metadata": {
        "id": "L7XM0H2N7SpG",
        "colab_type": "code",
        "colab": {
          "base_uri": "https://localhost:8080/",
          "height": 34
        },
        "outputId": "a0706372-1f7b-49f3-9656-c339764ea9b1"
      },
      "source": [
        "y1[2]\n",
        "#cross checking the value in position 2"
      ],
      "execution_count": 12,
      "outputs": [
        {
          "output_type": "execute_result",
          "data": {
            "text/plain": [
              "3"
            ]
          },
          "metadata": {
            "tags": []
          },
          "execution_count": 12
        }
      ]
    },
    {
      "cell_type": "code",
      "metadata": {
        "id": "rktYjjYP7yrH",
        "colab_type": "code",
        "colab": {
          "base_uri": "https://localhost:8080/",
          "height": 420
        },
        "outputId": "6bbbbe19-f00f-4c78-ce95-96168c24886a"
      },
      "source": [
        "list1=[]\n",
        "for x in range((y1[0])):\n",
        "  for y in range((y1[1])):\n",
        "    for z in range((y1[2])):\n",
        "      print(torch_tensor3d[x,y,z])\n",
        "      num=torch_tensor3d[x,y,z]\n",
        "      list1.append(num)\n",
        "\n",
        "#list1 is created so as to append each and every value in the matrix\n",
        "#by using for loop we will be accessing the first element of the matrix, y1[0] y1[1] y1[2] contains the dimentions and the positions of the elements.\n",
        "#and appending each and every element to the list1"
      ],
      "execution_count": 13,
      "outputs": [
        {
          "output_type": "stream",
          "text": [
            "tensor(1)\n",
            "tensor(2)\n",
            "tensor(3)\n",
            "tensor(4)\n",
            "tensor(5)\n",
            "tensor(6)\n",
            "tensor(7)\n",
            "tensor(8)\n",
            "tensor(9)\n",
            "tensor(10)\n",
            "tensor(11)\n",
            "tensor(12)\n",
            "tensor(13)\n",
            "tensor(14)\n",
            "tensor(15)\n",
            "tensor(16)\n",
            "tensor(17)\n",
            "tensor(18)\n",
            "tensor(19)\n",
            "tensor(20)\n",
            "tensor(21)\n",
            "tensor(22)\n",
            "tensor(23)\n",
            "tensor(24)\n"
          ],
          "name": "stdout"
        }
      ]
    },
    {
      "cell_type": "code",
      "metadata": {
        "id": "icjyvwnD8AMY",
        "colab_type": "code",
        "colab": {
          "base_uri": "https://localhost:8080/",
          "height": 420
        },
        "outputId": "baa28e4e-e894-4908-e8c1-92db5168e195"
      },
      "source": [
        "list1\n",
        "#list1 contains all the elements of the matrix"
      ],
      "execution_count": 14,
      "outputs": [
        {
          "output_type": "execute_result",
          "data": {
            "text/plain": [
              "[tensor(1),\n",
              " tensor(2),\n",
              " tensor(3),\n",
              " tensor(4),\n",
              " tensor(5),\n",
              " tensor(6),\n",
              " tensor(7),\n",
              " tensor(8),\n",
              " tensor(9),\n",
              " tensor(10),\n",
              " tensor(11),\n",
              " tensor(12),\n",
              " tensor(13),\n",
              " tensor(14),\n",
              " tensor(15),\n",
              " tensor(16),\n",
              " tensor(17),\n",
              " tensor(18),\n",
              " tensor(19),\n",
              " tensor(20),\n",
              " tensor(21),\n",
              " tensor(22),\n",
              " tensor(23),\n",
              " tensor(24)]"
            ]
          },
          "metadata": {
            "tags": []
          },
          "execution_count": 14
        }
      ]
    },
    {
      "cell_type": "code",
      "metadata": {
        "id": "C0vDcqD79Elh",
        "colab_type": "code",
        "colab": {}
      },
      "source": [
        "def Average(lst): \n",
        "    return sum(lst).item()/len(lst) \n",
        "\n",
        "#defining average formula to calculate the list1 average"
      ],
      "execution_count": 15,
      "outputs": []
    },
    {
      "cell_type": "code",
      "metadata": {
        "id": "jIhF4q6w9avQ",
        "colab_type": "code",
        "colab": {}
      },
      "source": [
        "average = Average(list1)"
      ],
      "execution_count": 16,
      "outputs": []
    },
    {
      "cell_type": "code",
      "metadata": {
        "id": "-Gk2muja9j8U",
        "colab_type": "code",
        "colab": {
          "base_uri": "https://localhost:8080/",
          "height": 34
        },
        "outputId": "9ca3bc73-f51a-48f0-ae2a-119005b2d0a4"
      },
      "source": [
        "sum(list1).item()\n",
        "#we use item() to get the value in the tensor"
      ],
      "execution_count": 17,
      "outputs": [
        {
          "output_type": "execute_result",
          "data": {
            "text/plain": [
              "300"
            ]
          },
          "metadata": {
            "tags": []
          },
          "execution_count": 17
        }
      ]
    },
    {
      "cell_type": "code",
      "metadata": {
        "id": "MB_dA2VM-RPX",
        "colab_type": "code",
        "colab": {
          "base_uri": "https://localhost:8080/",
          "height": 34
        },
        "outputId": "abdce653-0b77-48d5-cb43-42dd24ce2620"
      },
      "source": [
        "len(list1) "
      ],
      "execution_count": 18,
      "outputs": [
        {
          "output_type": "execute_result",
          "data": {
            "text/plain": [
              "24"
            ]
          },
          "metadata": {
            "tags": []
          },
          "execution_count": 18
        }
      ]
    },
    {
      "cell_type": "code",
      "metadata": {
        "id": "sXhIK15H-TYW",
        "colab_type": "code",
        "colab": {
          "base_uri": "https://localhost:8080/",
          "height": 34
        },
        "outputId": "999551c5-a64e-4df3-ce11-7615789d67db"
      },
      "source": [
        "print(\"The average of the elements of the matrix : \",average)\n"
      ],
      "execution_count": 19,
      "outputs": [
        {
          "output_type": "stream",
          "text": [
            "The average of the elements of the matrix :  12.5\n"
          ],
          "name": "stdout"
        }
      ]
    },
    {
      "cell_type": "markdown",
      "metadata": {
        "id": "G5n0Yz0KxJ2g",
        "colab_type": "text"
      },
      "source": [
        "***2) Write code that indexes into torch_tensor3d and prints out the value \"13\".**"
      ]
    },
    {
      "cell_type": "code",
      "metadata": {
        "id": "9WVmB8KuyH2w",
        "colab_type": "code",
        "colab": {
          "base_uri": "https://localhost:8080/",
          "height": 34
        },
        "outputId": "e537a6ca-ee2e-453e-e16c-b51b6c88ae67"
      },
      "source": [
        "torch_tensor3d[2,0,0]\n",
        "\n",
        "#the torch_tensor3d matrix's shape is 4X2X3 , so 13 is the 1st element in the 1st row of the 3rd set of the 2D matrix.\n",
        "#hence the index of 13 is [2,0,0]"
      ],
      "execution_count": 20,
      "outputs": [
        {
          "output_type": "execute_result",
          "data": {
            "text/plain": [
              "tensor(13)"
            ]
          },
          "metadata": {
            "tags": []
          },
          "execution_count": 20
        }
      ]
    },
    {
      "cell_type": "code",
      "metadata": {
        "id": "w1vz8QMIylzl",
        "colab_type": "code",
        "colab": {}
      },
      "source": [
        ""
      ],
      "execution_count": 20,
      "outputs": []
    },
    {
      "cell_type": "markdown",
      "metadata": {
        "id": "2vsP6oQA0Dm1",
        "colab_type": "text"
      },
      "source": [
        "***3)**For every power of 2 (i.e., $2^i$ or `2**i` ) up to $2^{11}$, create a random matrix $X \\in \\mathbb{R}^{2^i, 2^i}$ (i.e., `X.shape` should give `(2**i, 2**i)`). Time how long it takes to compute $X X$ (i.e., `X @ X`) on a CPU and on a GPU and plot the speedup. For what sized matrices is the CPU faster than the GPU?"
      ]
    },
    {
      "cell_type": "code",
      "metadata": {
        "id": "VRvkgAe5qMgW",
        "colab_type": "code",
        "colab": {}
      },
      "source": [
        "import timeit\n",
        "#timeit is used to run the time snippet and calculate the time required to execute"
      ],
      "execution_count": 21,
      "outputs": []
    },
    {
      "cell_type": "code",
      "metadata": {
        "id": "TRBNOmeEppTE",
        "colab_type": "code",
        "colab": {
          "base_uri": "https://localhost:8080/",
          "height": 202
        },
        "outputId": "63d70c1f-bba2-42a7-d4b3-fcad65df781c"
      },
      "source": [
        "cpu=[]\n",
        "for i in range(1,12):\n",
        "  x = torch.rand(2**i, 2**i)\n",
        "  time_cpu = timeit.timeit(\"x@x\", globals=globals(), number=77)\n",
        "  print(round(time_cpu, 5))\n",
        "  cpu.append(round(time_cpu, 5))\n",
        "\n",
        "#cpu list is defined so as to append all the seconds value for the given input\n",
        "#since we need the value of 2^11 we have given the range as 1,12, because the range starts from 1 until 11\n",
        "#initializing x for (2**i, 2**i) matrix\n",
        "#matrix multiplication is calculated using '@' symbol\n",
        "#until five decimals the seconds value is rounded and the values are appended in the cpu[]"
      ],
      "execution_count": 22,
      "outputs": [
        {
          "output_type": "stream",
          "text": [
            "0.00126\n",
            "0.0005\n",
            "0.00046\n",
            "0.00043\n",
            "0.0006\n",
            "0.00252\n",
            "0.0121\n",
            "0.047\n",
            "0.30741\n",
            "2.2982\n",
            "17.92552\n"
          ],
          "name": "stdout"
        }
      ]
    },
    {
      "cell_type": "code",
      "metadata": {
        "id": "6whAIQH_ZuvM",
        "colab_type": "code",
        "colab": {
          "base_uri": "https://localhost:8080/",
          "height": 202
        },
        "outputId": "f297701c-a17c-4bf7-a881-126d7b16be30"
      },
      "source": [
        "cpu"
      ],
      "execution_count": 23,
      "outputs": [
        {
          "output_type": "execute_result",
          "data": {
            "text/plain": [
              "[0.00126,\n",
              " 0.0005,\n",
              " 0.00046,\n",
              " 0.00043,\n",
              " 0.0006,\n",
              " 0.00252,\n",
              " 0.0121,\n",
              " 0.047,\n",
              " 0.30741,\n",
              " 2.2982,\n",
              " 17.92552]"
            ]
          },
          "metadata": {
            "tags": []
          },
          "execution_count": 23
        }
      ]
    },
    {
      "cell_type": "code",
      "metadata": {
        "id": "r0pLGa_ZqPX1",
        "colab_type": "code",
        "colab": {
          "base_uri": "https://localhost:8080/",
          "height": 34
        },
        "outputId": "927c5ec6-e8a8-401f-ba2a-943af0d1edce"
      },
      "source": [
        "print(\"Is CUDA available? :\", torch.cuda.is_available())\n",
        "device = torch.device(\"cuda\")\n",
        "\n",
        "#checking if cuds is available, since to calculate in gpu we need cuda as it is the computing platgorm for GPU, which enables the speed of the execution"
      ],
      "execution_count": 24,
      "outputs": [
        {
          "output_type": "stream",
          "text": [
            "Is CUDA available? : True\n"
          ],
          "name": "stdout"
        }
      ]
    },
    {
      "cell_type": "code",
      "metadata": {
        "id": "uJHgAJ8uqdCM",
        "colab_type": "code",
        "colab": {}
      },
      "source": [
        "if torch.cuda.is_available():\n",
        "  device = torch.device(\"cuda\")\n",
        "else:\n",
        "  device = torch.device(\"cpu\")\n",
        "\n",
        "#if cuda is available then change the device to cuda else cpu itself"
      ],
      "execution_count": 25,
      "outputs": []
    },
    {
      "cell_type": "code",
      "metadata": {
        "id": "Kn_njnj2qkzF",
        "colab_type": "code",
        "colab": {
          "base_uri": "https://localhost:8080/",
          "height": 202
        },
        "outputId": "d9677e94-246b-48c4-d52b-497d69a3be77"
      },
      "source": [
        "gpu=[]\n",
        "for i in range(1,12):\n",
        "  x = torch.rand(2**i, 2**i)\n",
        "  x = x.to(device)\n",
        "  time_gpu = timeit.timeit(\"x@x\", globals=globals(), number=77)\n",
        "  print(round(time_gpu, 5))\n",
        "  gpu.append(round(time_gpu, 5))\n",
        "\n",
        "#the same above method is done for the gpu as well, and here the multiplication is done using the gpu in the presense of cuda in the device\n",
        "#the seconds have been calculated and appended in the gpu[]"
      ],
      "execution_count": 26,
      "outputs": [
        {
          "output_type": "stream",
          "text": [
            "0.00154\n",
            "0.001\n",
            "0.00085\n",
            "0.00092\n",
            "0.00092\n",
            "0.0009\n",
            "0.00084\n",
            "0.00083\n",
            "0.0009\n",
            "0.00141\n",
            "0.00172\n"
          ],
          "name": "stdout"
        }
      ]
    },
    {
      "cell_type": "code",
      "metadata": {
        "id": "G7EvEb_yZ4k0",
        "colab_type": "code",
        "colab": {
          "base_uri": "https://localhost:8080/",
          "height": 202
        },
        "outputId": "844681b1-c0b5-4708-b271-7db25a31475e"
      },
      "source": [
        "gpu"
      ],
      "execution_count": 27,
      "outputs": [
        {
          "output_type": "execute_result",
          "data": {
            "text/plain": [
              "[0.00154,\n",
              " 0.001,\n",
              " 0.00085,\n",
              " 0.00092,\n",
              " 0.00092,\n",
              " 0.0009,\n",
              " 0.00084,\n",
              " 0.00083,\n",
              " 0.0009,\n",
              " 0.00141,\n",
              " 0.00172]"
            ]
          },
          "metadata": {
            "tags": []
          },
          "execution_count": 27
        }
      ]
    },
    {
      "cell_type": "code",
      "metadata": {
        "id": "POaAFzyraLEy",
        "colab_type": "code",
        "colab": {
          "base_uri": "https://localhost:8080/",
          "height": 202
        },
        "outputId": "f48d8bd2-eb34-4fa8-b865-7b2723abac21"
      },
      "source": [
        "cpu"
      ],
      "execution_count": 28,
      "outputs": [
        {
          "output_type": "execute_result",
          "data": {
            "text/plain": [
              "[0.00126,\n",
              " 0.0005,\n",
              " 0.00046,\n",
              " 0.00043,\n",
              " 0.0006,\n",
              " 0.00252,\n",
              " 0.0121,\n",
              " 0.047,\n",
              " 0.30741,\n",
              " 2.2982,\n",
              " 17.92552]"
            ]
          },
          "metadata": {
            "tags": []
          },
          "execution_count": 28
        }
      ]
    },
    {
      "cell_type": "code",
      "metadata": {
        "id": "NigvvOyiq9od",
        "colab_type": "code",
        "colab": {}
      },
      "source": [
        "from matplotlib import pyplot as plt\n",
        "#importing pyplot from matplotlib for the visualization"
      ],
      "execution_count": 29,
      "outputs": []
    },
    {
      "cell_type": "code",
      "metadata": {
        "id": "YnLGngObrEDs",
        "colab_type": "code",
        "colab": {
          "base_uri": "https://localhost:8080/",
          "height": 282
        },
        "outputId": "6bc868b7-bb1f-4b66-e196-5198f6498a2c"
      },
      "source": [
        "plt.plot(gpu)\n",
        "#plotting the gpu values"
      ],
      "execution_count": 30,
      "outputs": [
        {
          "output_type": "execute_result",
          "data": {
            "text/plain": [
              "[<matplotlib.lines.Line2D at 0x7f603c441ef0>]"
            ]
          },
          "metadata": {
            "tags": []
          },
          "execution_count": 30
        },
        {
          "output_type": "display_data",
          "data": {
            "image/png": "[encoded data removed]",
            "text/plain": [
              "<Figure size 432x288 with 1 Axes>"
            ]
          },
          "metadata": {
            "tags": [],
            "needs_background": "light"
          }
        }
      ]
    },
    {
      "cell_type": "code",
      "metadata": {
        "id": "5DZbPXe3rFPj",
        "colab_type": "code",
        "colab": {
          "base_uri": "https://localhost:8080/",
          "height": 282
        },
        "outputId": "b841ccc2-a79d-42ec-cada-e9d7228162e2"
      },
      "source": [
        "plt.plot(cpu)\n",
        "#ploting the cpu values"
      ],
      "execution_count": 31,
      "outputs": [
        {
          "output_type": "execute_result",
          "data": {
            "text/plain": [
              "[<matplotlib.lines.Line2D at 0x7f603c1590b8>]"
            ]
          },
          "metadata": {
            "tags": []
          },
          "execution_count": 31
        },
        {
          "output_type": "display_data",
          "data": {
            "image/png": "[encoded data removed]",
            "text/plain": [
              "<Figure size 432x288 with 1 Axes>"
            ]
          },
          "metadata": {
            "tags": [],
            "needs_background": "light"
          }
        }
      ]
    },
    {
      "cell_type": "code",
      "metadata": {
        "id": "fB11rveZtylf",
        "colab_type": "code",
        "colab": {
          "base_uri": "https://localhost:8080/",
          "height": 282
        },
        "outputId": "79b289da-c50c-4fad-9851-700bb1822da9"
      },
      "source": [
        "plt.plot(gpu, label='gpu time')\n",
        "plt.plot(cpu, label='cpu time')\n",
        "plt.legend()\n",
        "#comparing both the values "
      ],
      "execution_count": 32,
      "outputs": [
        {
          "output_type": "execute_result",
          "data": {
            "text/plain": [
              "<matplotlib.legend.Legend at 0x7f603c0c1a90>"
            ]
          },
          "metadata": {
            "tags": []
          },
          "execution_count": 32
        },
        {
          "output_type": "display_data",
          "data": {
            "image/png": "[encoded data removed]",
            "text/plain": [
              "<Figure size 432x288 with 1 Axes>"
            ]
          },
          "metadata": {
            "tags": [],
            "needs_background": "light"
          }
        }
      ]
    },
    {
      "cell_type": "markdown",
      "metadata": {
        "id": "2PyW1HkpZ_IV",
        "colab_type": "text"
      },
      "source": [
        "the time taken by CPU for 2^1 until 2^5 is faster than the time taken by GPU."
      ]
    },
    {
      "cell_type": "markdown",
      "metadata": {
        "id": "6a8-nlKJUP9p",
        "colab_type": "text"
      },
      "source": [
        " We used PyTorch to find the numeric solution to $f(x) = (x-2)^2$. Write code that will find the solution to  $f(x)= \\sin(x-2)\\cdot(x+2)^2+\\sqrt{\\cos(x)}$. What answer do you get?"
      ]
    },
    {
      "cell_type": "code",
      "metadata": {
        "id": "jQztBtx5UQiM",
        "colab_type": "code",
        "colab": {}
      },
      "source": [
        "import numpy as np"
      ],
      "execution_count": 33,
      "outputs": []
    },
    {
      "cell_type": "code",
      "metadata": {
        "id": "Cs_LMmdWZfcu",
        "colab_type": "code",
        "colab": {}
      },
      "source": [
        "def f(x):\n",
        "  return torch.sin(x-2)*torch.pow((x+2.0),2)+torch.sqrt(torch.cos(x))\n",
        "\n",
        "#defining the function "
      ],
      "execution_count": 34,
      "outputs": []
    },
    {
      "cell_type": "code",
      "metadata": {
        "id": "m8ScleZnaCxw",
        "colab_type": "code",
        "colab": {
          "base_uri": "https://localhost:8080/",
          "height": 282
        },
        "outputId": "e9cd7765-77dc-4682-e317-bd63be58d20a"
      },
      "source": [
        "x_axis_vals = np.linspace(-1,1,100) \n",
        "y_axis_vals = f(torch.tensor(x_axis_vals)).numpy()\n",
        "\n",
        "sns.lineplot(x_axis_vals, y_axis_vals, label='fn')\n",
        "\n",
        "#plotting the values for x from the range (-1,1) for 100 values"
      ],
      "execution_count": 35,
      "outputs": [
        {
          "output_type": "execute_result",
          "data": {
            "text/plain": [
              "<matplotlib.axes._subplots.AxesSubplot at 0x7f603c3b5588>"
            ]
          },
          "metadata": {
            "tags": []
          },
          "execution_count": 35
        },
        {
          "output_type": "display_data",
          "data": {
            "image/png": "[encoded data removed]",
            "text/plain": [
              "<Figure size 432x288 with 1 Axes>"
            ]
          },
          "metadata": {
            "tags": [],
            "needs_background": "light"
          }
        }
      ]
    },
    {
      "cell_type": "code",
      "metadata": {
        "id": "kjSMKzlscKll",
        "colab_type": "code",
        "colab": {
          "base_uri": "https://localhost:8080/",
          "height": 34
        },
        "outputId": "f92928a3-1b25-41de-ed16-971e4a62ce1b"
      },
      "source": [
        "x = torch.tensor([0.5], requires_grad=True)\n",
        "print(x.grad)\n",
        "\n",
        "#automatically calulating gradient "
      ],
      "execution_count": 36,
      "outputs": [
        {
          "output_type": "stream",
          "text": [
            "None\n"
          ],
          "name": "stdout"
        }
      ]
    },
    {
      "cell_type": "code",
      "metadata": {
        "id": "lmCuaZuacNVY",
        "colab_type": "code",
        "colab": {
          "base_uri": "https://localhost:8080/",
          "height": 34
        },
        "outputId": "77027270-d6d3-4538-e454-0515915ce316"
      },
      "source": [
        "value = f(x)\n",
        "print(value)\n",
        "\n",
        "#printing the value for f(x)"
      ],
      "execution_count": 37,
      "outputs": [
        {
          "output_type": "stream",
          "text": [
            "tensor([-5.2975], grad_fn=<AddBackward0>)\n"
          ],
          "name": "stdout"
        }
      ]
    },
    {
      "cell_type": "code",
      "metadata": {
        "id": "UfSGPAxgaI0s",
        "colab_type": "code",
        "colab": {
          "base_uri": "https://localhost:8080/",
          "height": 34
        },
        "outputId": "f2d5be3d-2d5e-4b10-b8cc-62500aa3539b"
      },
      "source": [
        "x = torch.tensor([0.5], requires_grad=True)\n",
        "x_cur = x.clone()\n",
        "x_prev = x_cur*100\n",
        "epsilon = 1e-5\n",
        "eta = 0.1\n",
        "while torch.norm(x_cur-x_prev) > epsilon:\n",
        "    x_prev = x_cur.clone() #We need to make a clone here so that x_prev and x_cur don't point to the same object!\n",
        "    \n",
        "    #Compute our function, gradient, and update\n",
        "    value = f(x)\n",
        "    value.backward()\n",
        "    x.data -= eta * x.grad\n",
        "    x.grad.zero_() #We need to zero out the old gradient, as py-torch will not do that for us\n",
        "    \n",
        "    #What are we currently now?\n",
        "    x_cur = x.data\n",
        "    \n",
        "print(x_cur)\n",
        "\n",
        "#printing the minimum valu for x without using optimizer"
      ],
      "execution_count": 38,
      "outputs": [
        {
          "output_type": "stream",
          "text": [
            "tensor([1.0635])\n"
          ],
          "name": "stdout"
        }
      ]
    },
    {
      "cell_type": "code",
      "metadata": {
        "id": "STpEmGwRa76u",
        "colab_type": "code",
        "colab": {}
      },
      "source": [
        "x_param = torch.nn.Parameter(torch.tensor([0.5]), requires_grad=True)"
      ],
      "execution_count": 39,
      "outputs": []
    },
    {
      "cell_type": "code",
      "metadata": {
        "id": "xTRTrvMKb8EU",
        "colab_type": "code",
        "colab": {}
      },
      "source": [
        "optimizer = torch.optim.SGD([x_param], lr=eta)\n",
        "\n",
        "#initializing the optimizer"
      ],
      "execution_count": 40,
      "outputs": []
    },
    {
      "cell_type": "code",
      "metadata": {
        "id": "ucHPXB3Nb-Go",
        "colab_type": "code",
        "colab": {
          "base_uri": "https://localhost:8080/",
          "height": 34
        },
        "outputId": "72266c85-f8ae-4fca-d37e-1d76e6202ba6"
      },
      "source": [
        "for epoch in range(60):\n",
        "    optimizer.zero_grad() #x.grad.zero_()\n",
        "    loss_incurred  = f(x_param)\n",
        "    #f(inputs, parameters)\n",
        "    loss_incurred.backward()\n",
        "    optimizer.step() #x.data -= eta * x.grad\n",
        "print(x_param.data)\n",
        "\n",
        "#with optimizer to calculate the minimum value for x"
      ],
      "execution_count": 41,
      "outputs": [
        {
          "output_type": "stream",
          "text": [
            "tensor([1.0635])\n"
          ],
          "name": "stdout"
        }
      ]
    },
    {
      "cell_type": "code",
      "metadata": {
        "id": "c_sBH6HYcCiJ",
        "colab_type": "code",
        "colab": {}
      },
      "source": [
        ""
      ],
      "execution_count": 41,
      "outputs": []
    },
    {
      "cell_type": "markdown",
      "metadata": {
        "id": "_BLv9-w2d52y",
        "colab_type": "text"
      },
      "source": [
        "*** 5)Affirm that you will not share the coure notebooks or images with any other person and will only use them for personal use.**"
      ]
    },
    {
      "cell_type": "markdown",
      "metadata": {
        "id": "vGnRrKN5eETG",
        "colab_type": "text"
      },
      "source": [
        "I affirm the i will not share the course notebooks or images with any other person and i will only use them for personal use."
      ]
    },
    {
      "cell_type": "code",
      "metadata": {
        "id": "g9rtNBbLfBom",
        "colab_type": "code",
        "colab": {}
      },
      "source": [
        ""
      ],
      "execution_count": 41,
      "outputs": []
    }
  ]
}