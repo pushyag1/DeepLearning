{
  "nbformat": 4,
  "nbformat_minor": 0,
  "metadata": {
    "colab": {
      "name": "__Init__Functions.ipynb",
      "provenance": [],
      "authorship_tag": "ABX9TyM/3WnApQcTbjXe2XvxwQKp",
      "include_colab_link": true
    },
    "kernelspec": {
      "name": "python3",
      "display_name": "Python 3"
    }
  },
  "cells": [
    {
      "cell_type": "markdown",
      "metadata": {
        "id": "view-in-github",
        "colab_type": "text"
      },
      "source": [
        "<a href=\"https://colab.research.google.com/github/pushyag1/DeepLearningClass/blob/master/__Init__Functions.ipynb\" target=\"_parent\"><img src=\"https://colab.research.google.com/assets/colab-badge.svg\" alt=\"Open In Colab\"/></a>"
      ]
    },
    {
      "cell_type": "code",
      "metadata": {
        "id": "IdlPc7NJMXcJ",
        "outputId": "e7069bc3-1e8f-4d2d-a58d-ab055735fba4",
        "colab": {
          "base_uri": "https://localhost:8080/",
          "height": 67
        }
      },
      "source": [
        "class pushya():\n",
        "  def __init__(self,name,university,age):\n",
        "    self.name=name\n",
        "    self.university=university\n",
        "    self.age=age\n",
        "  def sample(self):\n",
        "    print(\"hi\",self.name,\"im studying in\",self.university,\"age\",self.age)\n",
        "  def sample2(self,country):\n",
        "      print(\"hi\",self.name,\"country\",country)\n",
        "p=pushya('tunny','umbc','25')\n",
        "p1=pushya(\"pushyami\",\"griet\",\"16\")\n",
        "p.sample()\n",
        "p1.sample()\n",
        "p1.sample2('usa')\n"
      ],
      "execution_count": 67,
      "outputs": [
        {
          "output_type": "stream",
          "text": [
            "hi tunny im studying in umbc age 25\n",
            "hi pushyami im studying in griet age 16\n",
            "hi pushyami country usa\n"
          ],
          "name": "stdout"
        }
      ]
    },
    {
      "cell_type": "code",
      "metadata": {
        "id": "3lbvFuLISqZp",
        "outputId": "1577ee57-48d9-4a3a-ed5d-6b21b11a1b99",
        "colab": {
          "base_uri": "https://localhost:8080/",
          "height": 67
        }
      },
      "source": [
        "class pushya(object):\n",
        "  def __init__(self,name,university,age):\n",
        "    self.name=name\n",
        "    self.university=university\n",
        "    self.age=age\n",
        "    print(self.name,self.university,self.age)\n",
        " \n",
        "p=pushya('tunny','umbc','25')\n",
        "p1=pushya(\"pushyami\",\"griet\",\"16\")\n",
        "p3=pushya(\"p\",\"uni\",\"89\")"
      ],
      "execution_count": 73,
      "outputs": [
        {
          "output_type": "stream",
          "text": [
            "tunny umbc 25\n",
            "pushyami griet 16\n",
            "p uni 89\n"
          ],
          "name": "stdout"
        }
      ]
    },
    {
      "cell_type": "code",
      "metadata": {
        "id": "I3tGyHuGV1Xw",
        "outputId": "27223ba2-55f8-4bfd-b064-59ec202a0bb0",
        "colab": {
          "base_uri": "https://localhost:8080/",
          "height": 50
        }
      },
      "source": [
        "class deep:\n",
        "  def __init__(self,university,name,age):\n",
        "    self.university=university\n",
        "    self.name=name\n",
        "    self.age=age\n",
        "    if self.name == \"Pushya\":\n",
        "       self.name = \"Pushyami\"\n",
        "       #print(\"Pushyami\")\n",
        "    else:\n",
        "      self.name = \"Tunny\"\n",
        "  def sample1(self):\n",
        "    print(\"my name\",self.name,\"university\",self.university,\"age\",self.age)\n",
        "  def sample2(self,country):\n",
        "    print(\"my name is\",self.name,\"country\",country)\n",
        "\n",
        "p1=deep(\"UMBC\",\"tun\",\"25\")\n",
        "p1.sample1()\n",
        "p1.sample2(\"USA\")"
      ],
      "execution_count": 40,
      "outputs": [
        {
          "output_type": "stream",
          "text": [
            "my name Tunny university UMBC age 25\n",
            "my name is Tunny country USA\n"
          ],
          "name": "stdout"
        }
      ]
    },
    {
      "cell_type": "code",
      "metadata": {
        "id": "WsnzMifHbz6p",
        "outputId": "cd45a147-4f0b-4656-8a39-d8d4a959e191",
        "colab": {
          "base_uri": "https://localhost:8080/",
          "height": 50
        }
      },
      "source": [
        "class User(object):\n",
        "    def __init__(self, something):\n",
        "        print(\"User Init called.\")\n",
        "        self.something = something\n",
        "\n",
        "    def method(self):\n",
        "        return self.something \n",
        "\n",
        "class Student(User):\n",
        "    def __init__(self, something):\n",
        "        User.__init__(self, something)\n",
        "        print(\"Student Init called.\",self.something)\n",
        "        self.something = something\n",
        "\n",
        "    def method(self):\n",
        "        return self.something \n",
        "\n",
        "my_object = Student('Pushya')"
      ],
      "execution_count": 62,
      "outputs": [
        {
          "output_type": "stream",
          "text": [
            "User Init called.\n",
            "Student Init called. Pushya\n"
          ],
          "name": "stdout"
        }
      ]
    },
    {
      "cell_type": "code",
      "metadata": {
        "id": "mKs2XjHScB2P"
      },
      "source": [
        ""
      ],
      "execution_count": 61,
      "outputs": []
    },
    {
      "cell_type": "code",
      "metadata": {
        "id": "LRHjhAZyeOIH"
      },
      "source": [
        ""
      ],
      "execution_count": null,
      "outputs": []
    }
  ]
}